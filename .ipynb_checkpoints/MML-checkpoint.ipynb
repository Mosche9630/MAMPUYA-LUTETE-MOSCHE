{
 "cells": [
  {
   "cell_type": "markdown",
   "id": "d0b2bea6-81da-4c36-a93c-82a9d8970b7c",
   "metadata": {},
   "source": [
    "# A.Importation des librairies"
   ]
  },
  {
   "cell_type": "code",
   "execution_count": 1,
   "id": "41c6d1bc-ba41-4657-8ac6-8a30ee0adfdc",
   "metadata": {},
   "outputs": [],
   "source": [
    "import numpy as np"
   ]
  },
  {
   "cell_type": "markdown",
   "id": "b24d3005-44cd-44b6-b49e-17dc39a74de1",
   "metadata": {},
   "source": [
    "## 1.Tableaux"
   ]
  },
  {
   "cell_type": "markdown",
   "id": "019adc72-da56-4748-abdf-80234d2a7671",
   "metadata": {},
   "source": [
    "### 1.1. Tableau à 1D"
   ]
  },
  {
   "cell_type": "code",
   "execution_count": 2,
   "id": "c702f869-9ea7-4d97-8e7a-6facf0533e1c",
   "metadata": {},
   "outputs": [],
   "source": [
    "tab_1D=np.array([1,2,3,4,5,6,7])"
   ]
  },
  {
   "cell_type": "code",
   "execution_count": 3,
   "id": "4a6ece4a-fbb2-461c-8e9e-6e0c3bfa568d",
   "metadata": {},
   "outputs": [
    {
     "name": "stdout",
     "output_type": "stream",
     "text": [
      "[1 2 3 4 5 6 7]\n"
     ]
    }
   ],
   "source": [
    "print(tab_1D)"
   ]
  },
  {
   "cell_type": "code",
   "execution_count": 4,
   "id": "03c49ce3-4c6d-47e7-8696-4a00909efbdf",
   "metadata": {},
   "outputs": [
    {
     "name": "stdout",
     "output_type": "stream",
     "text": [
      "(7,)\n"
     ]
    }
   ],
   "source": [
    "print(tab_1D.shape)"
   ]
  },
  {
   "cell_type": "code",
   "execution_count": 5,
   "id": "09112203-6b1c-4bf6-bfef-4e819da4aa76",
   "metadata": {},
   "outputs": [
    {
     "name": "stdout",
     "output_type": "stream",
     "text": [
      "<class 'numpy.ndarray'>\n"
     ]
    }
   ],
   "source": [
    "print(type(tab_1D))"
   ]
  },
  {
   "cell_type": "markdown",
   "id": "623d4233-7f5e-4ae3-ac3f-911d241e481d",
   "metadata": {},
   "source": [
    "### 1.2. Tableau à 2D"
   ]
  },
  {
   "cell_type": "code",
   "execution_count": 6,
   "id": "b30e580a-c42d-4567-8270-520d04ba437d",
   "metadata": {},
   "outputs": [],
   "source": [
    "tab_2D=np.array([[10,20,30,40,50],\n",
    "                [100,200,300,400,500]])"
   ]
  },
  {
   "cell_type": "code",
   "execution_count": 7,
   "id": "f917cee3-b1d9-4457-a6e4-5e0d860b28a8",
   "metadata": {},
   "outputs": [
    {
     "name": "stdout",
     "output_type": "stream",
     "text": [
      "[[ 10  20  30  40  50]\n",
      " [100 200 300 400 500]]\n"
     ]
    }
   ],
   "source": [
    "print(tab_2D)"
   ]
  },
  {
   "cell_type": "code",
   "execution_count": 8,
   "id": "850e42db-f321-4b6a-888a-d2553f519697",
   "metadata": {},
   "outputs": [
    {
     "name": "stdout",
     "output_type": "stream",
     "text": [
      "(2, 5)\n"
     ]
    }
   ],
   "source": [
    "print(tab_2D.shape)"
   ]
  },
  {
   "cell_type": "code",
   "execution_count": 9,
   "id": "d87fce6c-093a-4c0d-bf1b-33a7368d2eef",
   "metadata": {},
   "outputs": [
    {
     "name": "stdout",
     "output_type": "stream",
     "text": [
      "<class 'numpy.ndarray'>\n"
     ]
    }
   ],
   "source": [
    "print(type(tab_2D))"
   ]
  },
  {
   "cell_type": "markdown",
   "id": "eb400c39-1867-4d47-bd17-aafe537a3c41",
   "metadata": {},
   "source": [
    "### 1.3. Tableau à 3D"
   ]
  },
  {
   "cell_type": "code",
   "execution_count": 10,
   "id": "6f8382a1-02b0-4e9d-8ea1-1ba5e7e53a75",
   "metadata": {},
   "outputs": [],
   "source": [
    "tab_3D=np.array([[[11,22,33,44,55],\n",
    "                 [111,221,331,441,551],\n",
    "                 [112,222,332,442,552]]])"
   ]
  },
  {
   "cell_type": "code",
   "execution_count": 11,
   "id": "fa318b28-0f0b-4ee6-938e-054c042c00ee",
   "metadata": {},
   "outputs": [
    {
     "name": "stdout",
     "output_type": "stream",
     "text": [
      "[[[ 11  22  33  44  55]\n",
      "  [111 221 331 441 551]\n",
      "  [112 222 332 442 552]]]\n"
     ]
    }
   ],
   "source": [
    "print(tab_3D)"
   ]
  },
  {
   "cell_type": "code",
   "execution_count": 12,
   "id": "ac7d10b4-ecbb-4eb2-b016-6c839cc6ace4",
   "metadata": {},
   "outputs": [
    {
     "name": "stdout",
     "output_type": "stream",
     "text": [
      "(1, 3, 5)\n"
     ]
    }
   ],
   "source": [
    "print(tab_3D.shape)"
   ]
  },
  {
   "cell_type": "code",
   "execution_count": 13,
   "id": "c8e9a841-7242-4a94-93d6-9877a9c869bf",
   "metadata": {},
   "outputs": [
    {
     "name": "stdout",
     "output_type": "stream",
     "text": [
      "<class 'numpy.ndarray'>\n"
     ]
    }
   ],
   "source": [
    "print(type(tab_3D))"
   ]
  },
  {
   "cell_type": "markdown",
   "id": "1fcda530-2a2a-4e59-baee-b1bf40097b6c",
   "metadata": {},
   "source": [
    "### 1.4. Tableau \\ 4D"
   ]
  },
  {
   "cell_type": "code",
   "execution_count": 14,
   "id": "e26bec84-3789-42b3-8dca-c5a1efe342fc",
   "metadata": {},
   "outputs": [],
   "source": [
    "tab_4D=np.array([[[[123,124,125,126],\n",
    "                  [1231,1241,1251,1261],\n",
    "                  [1233,1243,1253,1263]]]])"
   ]
  },
  {
   "cell_type": "code",
   "execution_count": 15,
   "id": "fe779898-ec08-4b50-a751-db9c56a3fd9a",
   "metadata": {},
   "outputs": [
    {
     "name": "stdout",
     "output_type": "stream",
     "text": [
      "[[[[ 123  124  125  126]\n",
      "   [1231 1241 1251 1261]\n",
      "   [1233 1243 1253 1263]]]]\n"
     ]
    }
   ],
   "source": [
    "print(tab_4D)"
   ]
  },
  {
   "cell_type": "code",
   "execution_count": 16,
   "id": "acd2a387-a7f7-4c6c-b40e-0eb3d1261785",
   "metadata": {},
   "outputs": [
    {
     "name": "stdout",
     "output_type": "stream",
     "text": [
      "(1, 1, 3, 4)\n"
     ]
    }
   ],
   "source": [
    "print(tab_4D.shape)"
   ]
  },
  {
   "cell_type": "code",
   "execution_count": 18,
   "id": "9a61d0f4-45fd-41c7-82fa-77b4ed461505",
   "metadata": {},
   "outputs": [
    {
     "name": "stdout",
     "output_type": "stream",
     "text": [
      "<class 'numpy.ndarray'>\n"
     ]
    }
   ],
   "source": [
    "print(type(tab_4D))"
   ]
  },
  {
   "cell_type": "markdown",
   "id": "4d53d8cb-ddb5-4479-9469-2da9568b959d",
   "metadata": {},
   "source": [
    "# B. OPERATIONS SUR LES TABLEAUX"
   ]
  },
  {
   "cell_type": "code",
   "execution_count": 5,
   "id": "e0b76991-67bf-4416-93c9-8f5f9927fbbc",
   "metadata": {},
   "outputs": [],
   "source": [
    "import numpy as np"
   ]
  },
  {
   "cell_type": "code",
   "execution_count": 8,
   "id": "f0c76b39-6c51-431a-9f90-6129bfd5684b",
   "metadata": {},
   "outputs": [],
   "source": [
    "a = np.array([10,20,30,40,50])"
   ]
  },
  {
   "cell_type": "code",
   "execution_count": 11,
   "id": "52be1022-0018-48a5-8f66-79823461b350",
   "metadata": {},
   "outputs": [],
   "source": [
    "b = np.array([60,70,80,90,100])"
   ]
  },
  {
   "cell_type": "code",
   "execution_count": 14,
   "id": "93e7e7c3-8299-4d7d-9f99-73b3fa38c2f3",
   "metadata": {},
   "outputs": [],
   "source": [
    "tableau_Add = a + b"
   ]
  },
  {
   "cell_type": "code",
   "execution_count": 17,
   "id": "e36c3f04-4539-43e7-bcf5-cc342b66e98c",
   "metadata": {},
   "outputs": [
    {
     "name": "stdout",
     "output_type": "stream",
     "text": [
      "[ 70  90 110 130 150]\n"
     ]
    }
   ],
   "source": [
    "print(tableau_Add)"
   ]
  },
  {
   "cell_type": "code",
   "execution_count": 21,
   "id": "5a5a831b-bed4-4911-aa9d-bcde685ee526",
   "metadata": {},
   "outputs": [],
   "source": [
    "tableau_Add = a * b"
   ]
  },
  {
   "cell_type": "code",
   "execution_count": 24,
   "id": "951023d5-de6d-4bb1-a2cf-eb304ac29084",
   "metadata": {},
   "outputs": [
    {
     "name": "stdout",
     "output_type": "stream",
     "text": [
      "[ 600 1400 2400 3600 5000]\n"
     ]
    }
   ],
   "source": [
    "print(tableau_Add)"
   ]
  },
  {
   "cell_type": "code",
   "execution_count": 27,
   "id": "b94860c6-ecc7-4f67-af19-d59e2d098521",
   "metadata": {},
   "outputs": [],
   "source": [
    "tableau_Add = b / a"
   ]
  },
  {
   "cell_type": "code",
   "execution_count": 30,
   "id": "c1276670-1365-4f00-90d1-32c1e7209ed3",
   "metadata": {},
   "outputs": [
    {
     "name": "stdout",
     "output_type": "stream",
     "text": [
      "[6.         3.5        2.66666667 2.25       2.        ]\n"
     ]
    }
   ],
   "source": [
    "print(tableau_Add)"
   ]
  },
  {
   "cell_type": "markdown",
   "id": "36dd0626-11d7-44b2-a60f-85d74ab7e97d",
   "metadata": {},
   "source": [
    "# C. MANIPULATION"
   ]
  },
  {
   "cell_type": "code",
   "execution_count": 35,
   "id": "1e1ef7bf-28e9-4f9b-8f6d-1b1fa2809905",
   "metadata": {},
   "outputs": [],
   "source": [
    "import pandas as pd"
   ]
  },
  {
   "cell_type": "code",
   "execution_count": 38,
   "id": "620b75e4-42b6-47f6-af82-be08a5305c45",
   "metadata": {},
   "outputs": [],
   "source": [
    "# Creation du dictionnaire"
   ]
  },
  {
   "cell_type": "code",
   "execution_count": 41,
   "id": "008e7109-228b-49dc-a756-2fbb469a49ab",
   "metadata": {},
   "outputs": [],
   "source": [
    "etudiants = {\n",
    "    \"Matricule\":['20222021194','20222021195','20222021196','20222021197','20222021198'],\n",
    "    \"Prenom\":['Chris', 'Mosché', 'Ariel', 'Gad', 'Asael'],\n",
    "    \"Age\":[12,25,13,36,70],\n",
    "    \"GPA\":['A','B','C','D','E']}"
   ]
  },
  {
   "cell_type": "code",
   "execution_count": 44,
   "id": "3211179c-488c-4c9f-a118-bb921a8d6487",
   "metadata": {},
   "outputs": [
    {
     "name": "stdout",
     "output_type": "stream",
     "text": [
      "{'Matricule': ['20222021194', '20222021195', '20222021196', '20222021197', '20222021198'], 'Prenom': ['Chris', 'Mosché', 'Ariel', 'Gad', 'Asael'], 'Age': [12, 25, 13, 36, 70], 'GPA': ['A', 'B', 'C', 'D', 'E']}\n"
     ]
    }
   ],
   "source": [
    "print(etudiants)"
   ]
  },
  {
   "cell_type": "code",
   "execution_count": 47,
   "id": "a67e3ad6-6018-4bf3-a325-28b4a1e34725",
   "metadata": {},
   "outputs": [],
   "source": [
    "#Importation pandas"
   ]
  },
  {
   "cell_type": "code",
   "execution_count": 50,
   "id": "fbf4a8c5-988b-4a97-9e9f-32cea611843f",
   "metadata": {},
   "outputs": [],
   "source": [
    "import pandas as pd"
   ]
  },
  {
   "cell_type": "code",
   "execution_count": 53,
   "id": "e851694d-bf61-4bcf-a1f7-db4998483a9b",
   "metadata": {},
   "outputs": [],
   "source": [
    "le_tableau = pd.DataFrame(etudiants)"
   ]
  },
  {
   "cell_type": "code",
   "execution_count": 56,
   "id": "81ff4b18-b089-403a-9d13-81c33dbfed3d",
   "metadata": {},
   "outputs": [
    {
     "data": {
      "text/html": [
       "<div>\n",
       "<style scoped>\n",
       "    .dataframe tbody tr th:only-of-type {\n",
       "        vertical-align: middle;\n",
       "    }\n",
       "\n",
       "    .dataframe tbody tr th {\n",
       "        vertical-align: top;\n",
       "    }\n",
       "\n",
       "    .dataframe thead th {\n",
       "        text-align: right;\n",
       "    }\n",
       "</style>\n",
       "<table border=\"1\" class=\"dataframe\">\n",
       "  <thead>\n",
       "    <tr style=\"text-align: right;\">\n",
       "      <th></th>\n",
       "      <th>Matricule</th>\n",
       "      <th>Prenom</th>\n",
       "      <th>Age</th>\n",
       "      <th>GPA</th>\n",
       "    </tr>\n",
       "  </thead>\n",
       "  <tbody>\n",
       "    <tr>\n",
       "      <th>0</th>\n",
       "      <td>20222021194</td>\n",
       "      <td>Chris</td>\n",
       "      <td>12</td>\n",
       "      <td>A</td>\n",
       "    </tr>\n",
       "    <tr>\n",
       "      <th>1</th>\n",
       "      <td>20222021195</td>\n",
       "      <td>Mosché</td>\n",
       "      <td>25</td>\n",
       "      <td>B</td>\n",
       "    </tr>\n",
       "    <tr>\n",
       "      <th>2</th>\n",
       "      <td>20222021196</td>\n",
       "      <td>Ariel</td>\n",
       "      <td>13</td>\n",
       "      <td>C</td>\n",
       "    </tr>\n",
       "    <tr>\n",
       "      <th>3</th>\n",
       "      <td>20222021197</td>\n",
       "      <td>Gad</td>\n",
       "      <td>36</td>\n",
       "      <td>D</td>\n",
       "    </tr>\n",
       "    <tr>\n",
       "      <th>4</th>\n",
       "      <td>20222021198</td>\n",
       "      <td>Asael</td>\n",
       "      <td>70</td>\n",
       "      <td>E</td>\n",
       "    </tr>\n",
       "  </tbody>\n",
       "</table>\n",
       "</div>"
      ],
      "text/plain": [
       "     Matricule  Prenom  Age GPA\n",
       "0  20222021194   Chris   12   A\n",
       "1  20222021195  Mosché   25   B\n",
       "2  20222021196   Ariel   13   C\n",
       "3  20222021197     Gad   36   D\n",
       "4  20222021198   Asael   70   E"
      ]
     },
     "execution_count": 56,
     "metadata": {},
     "output_type": "execute_result"
    }
   ],
   "source": [
    "le_tableau"
   ]
  },
  {
   "cell_type": "code",
   "execution_count": 59,
   "id": "ce1460bf-c60d-4534-ab57-cda550c2d25c",
   "metadata": {},
   "outputs": [
    {
     "data": {
      "text/html": [
       "<div>\n",
       "<style scoped>\n",
       "    .dataframe tbody tr th:only-of-type {\n",
       "        vertical-align: middle;\n",
       "    }\n",
       "\n",
       "    .dataframe tbody tr th {\n",
       "        vertical-align: top;\n",
       "    }\n",
       "\n",
       "    .dataframe thead th {\n",
       "        text-align: right;\n",
       "    }\n",
       "</style>\n",
       "<table border=\"1\" class=\"dataframe\">\n",
       "  <thead>\n",
       "    <tr style=\"text-align: right;\">\n",
       "      <th></th>\n",
       "      <th>Matricule</th>\n",
       "      <th>Prenom</th>\n",
       "      <th>Age</th>\n",
       "      <th>GPA</th>\n",
       "    </tr>\n",
       "  </thead>\n",
       "  <tbody>\n",
       "    <tr>\n",
       "      <th>0</th>\n",
       "      <td>20222021194</td>\n",
       "      <td>Chris</td>\n",
       "      <td>12</td>\n",
       "      <td>A</td>\n",
       "    </tr>\n",
       "    <tr>\n",
       "      <th>1</th>\n",
       "      <td>20222021195</td>\n",
       "      <td>Mosché</td>\n",
       "      <td>25</td>\n",
       "      <td>B</td>\n",
       "    </tr>\n",
       "    <tr>\n",
       "      <th>2</th>\n",
       "      <td>20222021196</td>\n",
       "      <td>Ariel</td>\n",
       "      <td>13</td>\n",
       "      <td>C</td>\n",
       "    </tr>\n",
       "    <tr>\n",
       "      <th>3</th>\n",
       "      <td>20222021197</td>\n",
       "      <td>Gad</td>\n",
       "      <td>36</td>\n",
       "      <td>D</td>\n",
       "    </tr>\n",
       "  </tbody>\n",
       "</table>\n",
       "</div>"
      ],
      "text/plain": [
       "     Matricule  Prenom  Age GPA\n",
       "0  20222021194   Chris   12   A\n",
       "1  20222021195  Mosché   25   B\n",
       "2  20222021196   Ariel   13   C\n",
       "3  20222021197     Gad   36   D"
      ]
     },
     "execution_count": 59,
     "metadata": {},
     "output_type": "execute_result"
    }
   ],
   "source": [
    "le_tableau.head(4)"
   ]
  },
  {
   "cell_type": "code",
   "execution_count": 62,
   "id": "1cd6a0c9-e474-442c-92a2-939f9fd6065c",
   "metadata": {},
   "outputs": [
    {
     "data": {
      "text/html": [
       "<div>\n",
       "<style scoped>\n",
       "    .dataframe tbody tr th:only-of-type {\n",
       "        vertical-align: middle;\n",
       "    }\n",
       "\n",
       "    .dataframe tbody tr th {\n",
       "        vertical-align: top;\n",
       "    }\n",
       "\n",
       "    .dataframe thead th {\n",
       "        text-align: right;\n",
       "    }\n",
       "</style>\n",
       "<table border=\"1\" class=\"dataframe\">\n",
       "  <thead>\n",
       "    <tr style=\"text-align: right;\">\n",
       "      <th></th>\n",
       "      <th>Matricule</th>\n",
       "      <th>Prenom</th>\n",
       "      <th>Age</th>\n",
       "      <th>GPA</th>\n",
       "    </tr>\n",
       "  </thead>\n",
       "  <tbody>\n",
       "    <tr>\n",
       "      <th>3</th>\n",
       "      <td>20222021197</td>\n",
       "      <td>Gad</td>\n",
       "      <td>36</td>\n",
       "      <td>D</td>\n",
       "    </tr>\n",
       "    <tr>\n",
       "      <th>4</th>\n",
       "      <td>20222021198</td>\n",
       "      <td>Asael</td>\n",
       "      <td>70</td>\n",
       "      <td>E</td>\n",
       "    </tr>\n",
       "  </tbody>\n",
       "</table>\n",
       "</div>"
      ],
      "text/plain": [
       "     Matricule Prenom  Age GPA\n",
       "3  20222021197    Gad   36   D\n",
       "4  20222021198  Asael   70   E"
      ]
     },
     "execution_count": 62,
     "metadata": {},
     "output_type": "execute_result"
    }
   ],
   "source": [
    "le_tableau.tail(2)"
   ]
  },
  {
   "cell_type": "code",
   "execution_count": 65,
   "id": "b645a15f-60c4-45f2-b9cf-37c15c490d29",
   "metadata": {},
   "outputs": [
    {
     "name": "stdout",
     "output_type": "stream",
     "text": [
      "     Matricule  Prenom  Age GPA\n",
      "0  20222021194   Chris   12   A\n",
      "1  20222021195  Mosché   25   B\n",
      "2  20222021196   Ariel   13   C\n",
      "3  20222021197     Gad   36   D\n",
      "4  20222021198   Asael   70   E\n"
     ]
    }
   ],
   "source": [
    "print(le_tableau)"
   ]
  },
  {
   "cell_type": "code",
   "execution_count": 68,
   "id": "77eb27e1-583f-406b-836c-0961a2ea9363",
   "metadata": {},
   "outputs": [
    {
     "data": {
      "text/plain": [
       "0    20222021194\n",
       "1    20222021195\n",
       "2    20222021196\n",
       "3    20222021197\n",
       "4    20222021198\n",
       "Name: Matricule, dtype: object"
      ]
     },
     "execution_count": 68,
     "metadata": {},
     "output_type": "execute_result"
    }
   ],
   "source": [
    "le_tableau[\"Matricule\"]"
   ]
  },
  {
   "cell_type": "code",
   "execution_count": 71,
   "id": "df760d1a-00b0-4fb8-9f69-f6f1fc97be38",
   "metadata": {},
   "outputs": [
    {
     "data": {
      "text/html": [
       "<div>\n",
       "<style scoped>\n",
       "    .dataframe tbody tr th:only-of-type {\n",
       "        vertical-align: middle;\n",
       "    }\n",
       "\n",
       "    .dataframe tbody tr th {\n",
       "        vertical-align: top;\n",
       "    }\n",
       "\n",
       "    .dataframe thead th {\n",
       "        text-align: right;\n",
       "    }\n",
       "</style>\n",
       "<table border=\"1\" class=\"dataframe\">\n",
       "  <thead>\n",
       "    <tr style=\"text-align: right;\">\n",
       "      <th></th>\n",
       "      <th>Matricule</th>\n",
       "      <th>Prenom</th>\n",
       "    </tr>\n",
       "  </thead>\n",
       "  <tbody>\n",
       "    <tr>\n",
       "      <th>0</th>\n",
       "      <td>20222021194</td>\n",
       "      <td>Chris</td>\n",
       "    </tr>\n",
       "    <tr>\n",
       "      <th>1</th>\n",
       "      <td>20222021195</td>\n",
       "      <td>Mosché</td>\n",
       "    </tr>\n",
       "    <tr>\n",
       "      <th>2</th>\n",
       "      <td>20222021196</td>\n",
       "      <td>Ariel</td>\n",
       "    </tr>\n",
       "    <tr>\n",
       "      <th>3</th>\n",
       "      <td>20222021197</td>\n",
       "      <td>Gad</td>\n",
       "    </tr>\n",
       "    <tr>\n",
       "      <th>4</th>\n",
       "      <td>20222021198</td>\n",
       "      <td>Asael</td>\n",
       "    </tr>\n",
       "  </tbody>\n",
       "</table>\n",
       "</div>"
      ],
      "text/plain": [
       "     Matricule  Prenom\n",
       "0  20222021194   Chris\n",
       "1  20222021195  Mosché\n",
       "2  20222021196   Ariel\n",
       "3  20222021197     Gad\n",
       "4  20222021198   Asael"
      ]
     },
     "execution_count": 71,
     "metadata": {},
     "output_type": "execute_result"
    }
   ],
   "source": [
    "le_tableau[[\"Matricule\",\"Prenom\"]]"
   ]
  },
  {
   "cell_type": "code",
   "execution_count": 74,
   "id": "4bf136c8-7d11-4cf0-bce9-1d4e57b8a4d7",
   "metadata": {},
   "outputs": [
    {
     "data": {
      "text/html": [
       "<div>\n",
       "<style scoped>\n",
       "    .dataframe tbody tr th:only-of-type {\n",
       "        vertical-align: middle;\n",
       "    }\n",
       "\n",
       "    .dataframe tbody tr th {\n",
       "        vertical-align: top;\n",
       "    }\n",
       "\n",
       "    .dataframe thead th {\n",
       "        text-align: right;\n",
       "    }\n",
       "</style>\n",
       "<table border=\"1\" class=\"dataframe\">\n",
       "  <thead>\n",
       "    <tr style=\"text-align: right;\">\n",
       "      <th></th>\n",
       "      <th>Matricule</th>\n",
       "      <th>Prenom</th>\n",
       "      <th>Age</th>\n",
       "      <th>GPA</th>\n",
       "    </tr>\n",
       "  </thead>\n",
       "  <tbody>\n",
       "    <tr>\n",
       "      <th>0</th>\n",
       "      <td>20222021194</td>\n",
       "      <td>Chris</td>\n",
       "      <td>12</td>\n",
       "      <td>A</td>\n",
       "    </tr>\n",
       "    <tr>\n",
       "      <th>1</th>\n",
       "      <td>20222021195</td>\n",
       "      <td>Mosché</td>\n",
       "      <td>25</td>\n",
       "      <td>B</td>\n",
       "    </tr>\n",
       "    <tr>\n",
       "      <th>2</th>\n",
       "      <td>20222021196</td>\n",
       "      <td>Ariel</td>\n",
       "      <td>13</td>\n",
       "      <td>C</td>\n",
       "    </tr>\n",
       "    <tr>\n",
       "      <th>3</th>\n",
       "      <td>20222021197</td>\n",
       "      <td>Gad</td>\n",
       "      <td>36</td>\n",
       "      <td>D</td>\n",
       "    </tr>\n",
       "    <tr>\n",
       "      <th>4</th>\n",
       "      <td>20222021198</td>\n",
       "      <td>Asael</td>\n",
       "      <td>70</td>\n",
       "      <td>E</td>\n",
       "    </tr>\n",
       "  </tbody>\n",
       "</table>\n",
       "</div>"
      ],
      "text/plain": [
       "     Matricule  Prenom  Age GPA\n",
       "0  20222021194   Chris   12   A\n",
       "1  20222021195  Mosché   25   B\n",
       "2  20222021196   Ariel   13   C\n",
       "3  20222021197     Gad   36   D\n",
       "4  20222021198   Asael   70   E"
      ]
     },
     "execution_count": 74,
     "metadata": {},
     "output_type": "execute_result"
    }
   ],
   "source": [
    "le_tableau.iloc[:,:]"
   ]
  },
  {
   "cell_type": "code",
   "execution_count": 77,
   "id": "c9b15a39-0b25-49c7-b6c0-619b3ea51b74",
   "metadata": {},
   "outputs": [
    {
     "data": {
      "text/html": [
       "<div>\n",
       "<style scoped>\n",
       "    .dataframe tbody tr th:only-of-type {\n",
       "        vertical-align: middle;\n",
       "    }\n",
       "\n",
       "    .dataframe tbody tr th {\n",
       "        vertical-align: top;\n",
       "    }\n",
       "\n",
       "    .dataframe thead th {\n",
       "        text-align: right;\n",
       "    }\n",
       "</style>\n",
       "<table border=\"1\" class=\"dataframe\">\n",
       "  <thead>\n",
       "    <tr style=\"text-align: right;\">\n",
       "      <th></th>\n",
       "      <th>Matricule</th>\n",
       "      <th>Prenom</th>\n",
       "      <th>Age</th>\n",
       "      <th>GPA</th>\n",
       "    </tr>\n",
       "  </thead>\n",
       "  <tbody>\n",
       "    <tr>\n",
       "      <th>3</th>\n",
       "      <td>20222021197</td>\n",
       "      <td>Gad</td>\n",
       "      <td>36</td>\n",
       "      <td>D</td>\n",
       "    </tr>\n",
       "  </tbody>\n",
       "</table>\n",
       "</div>"
      ],
      "text/plain": [
       "     Matricule Prenom  Age GPA\n",
       "3  20222021197    Gad   36   D"
      ]
     },
     "execution_count": 77,
     "metadata": {},
     "output_type": "execute_result"
    }
   ],
   "source": [
    "le_tableau.iloc[3:4,:]"
   ]
  },
  {
   "cell_type": "code",
   "execution_count": 80,
   "id": "64293df8-9a32-49b5-ac74-2514a16827b4",
   "metadata": {},
   "outputs": [],
   "source": [
    "#Seulement la colonne age"
   ]
  },
  {
   "cell_type": "code",
   "execution_count": 83,
   "id": "d785ca8d-d6c7-4c63-9523-0bee6aadc2e3",
   "metadata": {},
   "outputs": [
    {
     "data": {
      "text/html": [
       "<div>\n",
       "<style scoped>\n",
       "    .dataframe tbody tr th:only-of-type {\n",
       "        vertical-align: middle;\n",
       "    }\n",
       "\n",
       "    .dataframe tbody tr th {\n",
       "        vertical-align: top;\n",
       "    }\n",
       "\n",
       "    .dataframe thead th {\n",
       "        text-align: right;\n",
       "    }\n",
       "</style>\n",
       "<table border=\"1\" class=\"dataframe\">\n",
       "  <thead>\n",
       "    <tr style=\"text-align: right;\">\n",
       "      <th></th>\n",
       "      <th>Age</th>\n",
       "    </tr>\n",
       "  </thead>\n",
       "  <tbody>\n",
       "    <tr>\n",
       "      <th>0</th>\n",
       "      <td>12</td>\n",
       "    </tr>\n",
       "    <tr>\n",
       "      <th>1</th>\n",
       "      <td>25</td>\n",
       "    </tr>\n",
       "    <tr>\n",
       "      <th>2</th>\n",
       "      <td>13</td>\n",
       "    </tr>\n",
       "    <tr>\n",
       "      <th>3</th>\n",
       "      <td>36</td>\n",
       "    </tr>\n",
       "    <tr>\n",
       "      <th>4</th>\n",
       "      <td>70</td>\n",
       "    </tr>\n",
       "  </tbody>\n",
       "</table>\n",
       "</div>"
      ],
      "text/plain": [
       "   Age\n",
       "0   12\n",
       "1   25\n",
       "2   13\n",
       "3   36\n",
       "4   70"
      ]
     },
     "execution_count": 83,
     "metadata": {},
     "output_type": "execute_result"
    }
   ],
   "source": [
    "le_tableau.iloc[:,2:3]"
   ]
  },
  {
   "cell_type": "code",
   "execution_count": 86,
   "id": "2c3f174e-b466-41c3-9525-3f7c67c5d67b",
   "metadata": {},
   "outputs": [],
   "source": [
    "#Seulement Ariel"
   ]
  },
  {
   "cell_type": "code",
   "execution_count": 89,
   "id": "4ab6cd6a-f9e0-47c5-8e1f-cb4f4ef56531",
   "metadata": {},
   "outputs": [
    {
     "data": {
      "text/html": [
       "<div>\n",
       "<style scoped>\n",
       "    .dataframe tbody tr th:only-of-type {\n",
       "        vertical-align: middle;\n",
       "    }\n",
       "\n",
       "    .dataframe tbody tr th {\n",
       "        vertical-align: top;\n",
       "    }\n",
       "\n",
       "    .dataframe thead th {\n",
       "        text-align: right;\n",
       "    }\n",
       "</style>\n",
       "<table border=\"1\" class=\"dataframe\">\n",
       "  <thead>\n",
       "    <tr style=\"text-align: right;\">\n",
       "      <th></th>\n",
       "      <th>Matricule</th>\n",
       "      <th>Prenom</th>\n",
       "      <th>Age</th>\n",
       "      <th>GPA</th>\n",
       "    </tr>\n",
       "  </thead>\n",
       "  <tbody>\n",
       "    <tr>\n",
       "      <th>2</th>\n",
       "      <td>20222021196</td>\n",
       "      <td>Ariel</td>\n",
       "      <td>13</td>\n",
       "      <td>C</td>\n",
       "    </tr>\n",
       "  </tbody>\n",
       "</table>\n",
       "</div>"
      ],
      "text/plain": [
       "     Matricule Prenom  Age GPA\n",
       "2  20222021196  Ariel   13   C"
      ]
     },
     "execution_count": 89,
     "metadata": {},
     "output_type": "execute_result"
    }
   ],
   "source": [
    "le_tableau.iloc[2:3,:]"
   ]
  },
  {
   "cell_type": "code",
   "execution_count": 92,
   "id": "09bb8c2d-b691-4a1a-a94b-1b94b40b69c4",
   "metadata": {},
   "outputs": [],
   "source": [
    "#Seulement le prenom de Gad"
   ]
  },
  {
   "cell_type": "code",
   "execution_count": 95,
   "id": "21d9da5f-2ef4-4d03-9e3c-b2c4f406c3f5",
   "metadata": {},
   "outputs": [
    {
     "data": {
      "text/html": [
       "<div>\n",
       "<style scoped>\n",
       "    .dataframe tbody tr th:only-of-type {\n",
       "        vertical-align: middle;\n",
       "    }\n",
       "\n",
       "    .dataframe tbody tr th {\n",
       "        vertical-align: top;\n",
       "    }\n",
       "\n",
       "    .dataframe thead th {\n",
       "        text-align: right;\n",
       "    }\n",
       "</style>\n",
       "<table border=\"1\" class=\"dataframe\">\n",
       "  <thead>\n",
       "    <tr style=\"text-align: right;\">\n",
       "      <th></th>\n",
       "      <th>Prenom</th>\n",
       "    </tr>\n",
       "  </thead>\n",
       "  <tbody>\n",
       "    <tr>\n",
       "      <th>3</th>\n",
       "      <td>Gad</td>\n",
       "    </tr>\n",
       "  </tbody>\n",
       "</table>\n",
       "</div>"
      ],
      "text/plain": [
       "  Prenom\n",
       "3    Gad"
      ]
     },
     "execution_count": 95,
     "metadata": {},
     "output_type": "execute_result"
    }
   ],
   "source": [
    "le_tableau.iloc[3:4,1:2]"
   ]
  },
  {
   "cell_type": "code",
   "execution_count": 98,
   "id": "d8ec3a3b-2a56-4d61-ad5d-c814e86563c8",
   "metadata": {},
   "outputs": [],
   "source": [
    "#Seulement l'age de Mosché"
   ]
  },
  {
   "cell_type": "code",
   "execution_count": 101,
   "id": "74b7e8c7-ad55-4360-bbcd-193c9ce5c080",
   "metadata": {},
   "outputs": [
    {
     "data": {
      "text/html": [
       "<div>\n",
       "<style scoped>\n",
       "    .dataframe tbody tr th:only-of-type {\n",
       "        vertical-align: middle;\n",
       "    }\n",
       "\n",
       "    .dataframe tbody tr th {\n",
       "        vertical-align: top;\n",
       "    }\n",
       "\n",
       "    .dataframe thead th {\n",
       "        text-align: right;\n",
       "    }\n",
       "</style>\n",
       "<table border=\"1\" class=\"dataframe\">\n",
       "  <thead>\n",
       "    <tr style=\"text-align: right;\">\n",
       "      <th></th>\n",
       "      <th>Age</th>\n",
       "    </tr>\n",
       "  </thead>\n",
       "  <tbody>\n",
       "    <tr>\n",
       "      <th>1</th>\n",
       "      <td>25</td>\n",
       "    </tr>\n",
       "  </tbody>\n",
       "</table>\n",
       "</div>"
      ],
      "text/plain": [
       "   Age\n",
       "1   25"
      ]
     },
     "execution_count": 101,
     "metadata": {},
     "output_type": "execute_result"
    }
   ],
   "source": [
    "le_tableau.iloc[1:2,2:3]"
   ]
  },
  {
   "cell_type": "code",
   "execution_count": 104,
   "id": "6ea437c7-128e-4f27-a9d0-16142333dbf5",
   "metadata": {},
   "outputs": [],
   "source": [
    "#Ajout colonnes"
   ]
  },
  {
   "cell_type": "code",
   "execution_count": 107,
   "id": "c2fd429e-79f4-4f57-8031-20a04cefbc86",
   "metadata": {},
   "outputs": [],
   "source": [
    "le_tableau['Genre'] = ['M','M','M','M','F']"
   ]
  },
  {
   "cell_type": "code",
   "execution_count": 110,
   "id": "44eabde0-0b1e-472b-8e03-aa5cbe1edb5e",
   "metadata": {},
   "outputs": [
    {
     "data": {
      "text/html": [
       "<div>\n",
       "<style scoped>\n",
       "    .dataframe tbody tr th:only-of-type {\n",
       "        vertical-align: middle;\n",
       "    }\n",
       "\n",
       "    .dataframe tbody tr th {\n",
       "        vertical-align: top;\n",
       "    }\n",
       "\n",
       "    .dataframe thead th {\n",
       "        text-align: right;\n",
       "    }\n",
       "</style>\n",
       "<table border=\"1\" class=\"dataframe\">\n",
       "  <thead>\n",
       "    <tr style=\"text-align: right;\">\n",
       "      <th></th>\n",
       "      <th>Matricule</th>\n",
       "      <th>Prenom</th>\n",
       "      <th>Age</th>\n",
       "      <th>GPA</th>\n",
       "      <th>Genre</th>\n",
       "    </tr>\n",
       "  </thead>\n",
       "  <tbody>\n",
       "    <tr>\n",
       "      <th>0</th>\n",
       "      <td>20222021194</td>\n",
       "      <td>Chris</td>\n",
       "      <td>12</td>\n",
       "      <td>A</td>\n",
       "      <td>M</td>\n",
       "    </tr>\n",
       "    <tr>\n",
       "      <th>1</th>\n",
       "      <td>20222021195</td>\n",
       "      <td>Mosché</td>\n",
       "      <td>25</td>\n",
       "      <td>B</td>\n",
       "      <td>M</td>\n",
       "    </tr>\n",
       "    <tr>\n",
       "      <th>2</th>\n",
       "      <td>20222021196</td>\n",
       "      <td>Ariel</td>\n",
       "      <td>13</td>\n",
       "      <td>C</td>\n",
       "      <td>M</td>\n",
       "    </tr>\n",
       "    <tr>\n",
       "      <th>3</th>\n",
       "      <td>20222021197</td>\n",
       "      <td>Gad</td>\n",
       "      <td>36</td>\n",
       "      <td>D</td>\n",
       "      <td>M</td>\n",
       "    </tr>\n",
       "    <tr>\n",
       "      <th>4</th>\n",
       "      <td>20222021198</td>\n",
       "      <td>Asael</td>\n",
       "      <td>70</td>\n",
       "      <td>E</td>\n",
       "      <td>F</td>\n",
       "    </tr>\n",
       "  </tbody>\n",
       "</table>\n",
       "</div>"
      ],
      "text/plain": [
       "     Matricule  Prenom  Age GPA Genre\n",
       "0  20222021194   Chris   12   A     M\n",
       "1  20222021195  Mosché   25   B     M\n",
       "2  20222021196   Ariel   13   C     M\n",
       "3  20222021197     Gad   36   D     M\n",
       "4  20222021198   Asael   70   E     F"
      ]
     },
     "execution_count": 110,
     "metadata": {},
     "output_type": "execute_result"
    }
   ],
   "source": [
    "le_tableau"
   ]
  },
  {
   "cell_type": "code",
   "execution_count": 113,
   "id": "540ebea1-9fcd-4131-896e-9881f63674e0",
   "metadata": {},
   "outputs": [],
   "source": [
    "le_tableau['Pourcentage'] = [80,70,60,50,55]"
   ]
  },
  {
   "cell_type": "code",
   "execution_count": 116,
   "id": "0b2f04d8-a653-4990-9391-38097e24381e",
   "metadata": {},
   "outputs": [
    {
     "data": {
      "text/html": [
       "<div>\n",
       "<style scoped>\n",
       "    .dataframe tbody tr th:only-of-type {\n",
       "        vertical-align: middle;\n",
       "    }\n",
       "\n",
       "    .dataframe tbody tr th {\n",
       "        vertical-align: top;\n",
       "    }\n",
       "\n",
       "    .dataframe thead th {\n",
       "        text-align: right;\n",
       "    }\n",
       "</style>\n",
       "<table border=\"1\" class=\"dataframe\">\n",
       "  <thead>\n",
       "    <tr style=\"text-align: right;\">\n",
       "      <th></th>\n",
       "      <th>Matricule</th>\n",
       "      <th>Prenom</th>\n",
       "      <th>Age</th>\n",
       "      <th>GPA</th>\n",
       "      <th>Genre</th>\n",
       "      <th>Pourcentage</th>\n",
       "    </tr>\n",
       "  </thead>\n",
       "  <tbody>\n",
       "    <tr>\n",
       "      <th>0</th>\n",
       "      <td>20222021194</td>\n",
       "      <td>Chris</td>\n",
       "      <td>12</td>\n",
       "      <td>A</td>\n",
       "      <td>M</td>\n",
       "      <td>80</td>\n",
       "    </tr>\n",
       "    <tr>\n",
       "      <th>1</th>\n",
       "      <td>20222021195</td>\n",
       "      <td>Mosché</td>\n",
       "      <td>25</td>\n",
       "      <td>B</td>\n",
       "      <td>M</td>\n",
       "      <td>70</td>\n",
       "    </tr>\n",
       "    <tr>\n",
       "      <th>2</th>\n",
       "      <td>20222021196</td>\n",
       "      <td>Ariel</td>\n",
       "      <td>13</td>\n",
       "      <td>C</td>\n",
       "      <td>M</td>\n",
       "      <td>60</td>\n",
       "    </tr>\n",
       "    <tr>\n",
       "      <th>3</th>\n",
       "      <td>20222021197</td>\n",
       "      <td>Gad</td>\n",
       "      <td>36</td>\n",
       "      <td>D</td>\n",
       "      <td>M</td>\n",
       "      <td>50</td>\n",
       "    </tr>\n",
       "    <tr>\n",
       "      <th>4</th>\n",
       "      <td>20222021198</td>\n",
       "      <td>Asael</td>\n",
       "      <td>70</td>\n",
       "      <td>E</td>\n",
       "      <td>F</td>\n",
       "      <td>55</td>\n",
       "    </tr>\n",
       "  </tbody>\n",
       "</table>\n",
       "</div>"
      ],
      "text/plain": [
       "     Matricule  Prenom  Age GPA Genre  Pourcentage\n",
       "0  20222021194   Chris   12   A     M           80\n",
       "1  20222021195  Mosché   25   B     M           70\n",
       "2  20222021196   Ariel   13   C     M           60\n",
       "3  20222021197     Gad   36   D     M           50\n",
       "4  20222021198   Asael   70   E     F           55"
      ]
     },
     "execution_count": 116,
     "metadata": {},
     "output_type": "execute_result"
    }
   ],
   "source": [
    "le_tableau"
   ]
  },
  {
   "cell_type": "code",
   "execution_count": 119,
   "id": "7a31ee45-c779-4d36-8934-b580f41dcdc5",
   "metadata": {},
   "outputs": [],
   "source": [
    "#Supprimer la colonne GPA"
   ]
  },
  {
   "cell_type": "code",
   "execution_count": 122,
   "id": "ade467bb-e7c6-41c2-b4a4-b441c5080a53",
   "metadata": {},
   "outputs": [],
   "source": [
    "le_tableau.drop(columns=['GPA'], inplace=True)"
   ]
  },
  {
   "cell_type": "code",
   "execution_count": 125,
   "id": "d00e451e-ce3b-48c0-bcb9-0c2b99c02653",
   "metadata": {},
   "outputs": [
    {
     "data": {
      "text/html": [
       "<div>\n",
       "<style scoped>\n",
       "    .dataframe tbody tr th:only-of-type {\n",
       "        vertical-align: middle;\n",
       "    }\n",
       "\n",
       "    .dataframe tbody tr th {\n",
       "        vertical-align: top;\n",
       "    }\n",
       "\n",
       "    .dataframe thead th {\n",
       "        text-align: right;\n",
       "    }\n",
       "</style>\n",
       "<table border=\"1\" class=\"dataframe\">\n",
       "  <thead>\n",
       "    <tr style=\"text-align: right;\">\n",
       "      <th></th>\n",
       "      <th>Matricule</th>\n",
       "      <th>Prenom</th>\n",
       "      <th>Age</th>\n",
       "      <th>Genre</th>\n",
       "      <th>Pourcentage</th>\n",
       "    </tr>\n",
       "  </thead>\n",
       "  <tbody>\n",
       "    <tr>\n",
       "      <th>0</th>\n",
       "      <td>20222021194</td>\n",
       "      <td>Chris</td>\n",
       "      <td>12</td>\n",
       "      <td>M</td>\n",
       "      <td>80</td>\n",
       "    </tr>\n",
       "    <tr>\n",
       "      <th>1</th>\n",
       "      <td>20222021195</td>\n",
       "      <td>Mosché</td>\n",
       "      <td>25</td>\n",
       "      <td>M</td>\n",
       "      <td>70</td>\n",
       "    </tr>\n",
       "    <tr>\n",
       "      <th>2</th>\n",
       "      <td>20222021196</td>\n",
       "      <td>Ariel</td>\n",
       "      <td>13</td>\n",
       "      <td>M</td>\n",
       "      <td>60</td>\n",
       "    </tr>\n",
       "    <tr>\n",
       "      <th>3</th>\n",
       "      <td>20222021197</td>\n",
       "      <td>Gad</td>\n",
       "      <td>36</td>\n",
       "      <td>M</td>\n",
       "      <td>50</td>\n",
       "    </tr>\n",
       "    <tr>\n",
       "      <th>4</th>\n",
       "      <td>20222021198</td>\n",
       "      <td>Asael</td>\n",
       "      <td>70</td>\n",
       "      <td>F</td>\n",
       "      <td>55</td>\n",
       "    </tr>\n",
       "  </tbody>\n",
       "</table>\n",
       "</div>"
      ],
      "text/plain": [
       "     Matricule  Prenom  Age Genre  Pourcentage\n",
       "0  20222021194   Chris   12     M           80\n",
       "1  20222021195  Mosché   25     M           70\n",
       "2  20222021196   Ariel   13     M           60\n",
       "3  20222021197     Gad   36     M           50\n",
       "4  20222021198   Asael   70     F           55"
      ]
     },
     "execution_count": 125,
     "metadata": {},
     "output_type": "execute_result"
    }
   ],
   "source": [
    "le_tableau"
   ]
  },
  {
   "cell_type": "code",
   "execution_count": 128,
   "id": "2f3dee13-e7d4-4bc9-a712-db39490d1ae4",
   "metadata": {},
   "outputs": [],
   "source": [
    "#Convertir la colonne Genre en M=1 et F=0"
   ]
  },
  {
   "cell_type": "code",
   "execution_count": 131,
   "id": "8a2cf5de-882b-44b2-afa2-95e7d39f4267",
   "metadata": {},
   "outputs": [],
   "source": [
    "#Mapping de la colonne Genre"
   ]
  },
  {
   "cell_type": "code",
   "execution_count": 134,
   "id": "0fecea18-98e0-47bb-8c9c-0b28f8c8a8a9",
   "metadata": {},
   "outputs": [],
   "source": [
    "#Premiere methode"
   ]
  },
  {
   "cell_type": "code",
   "execution_count": 137,
   "id": "bd1b79a2-aa44-4526-91b7-cc08bb1c6a32",
   "metadata": {},
   "outputs": [],
   "source": [
    "Mapping_Genre = {\n",
    "    'M' : 1,\n",
    "    'F' : 0\n",
    "}"
   ]
  },
  {
   "cell_type": "code",
   "execution_count": 140,
   "id": "de385af9-6468-439b-8dc0-bc878d29fd31",
   "metadata": {},
   "outputs": [],
   "source": [
    "le_tableau['Genre'] = le_tableau['Genre'].map(Mapping_Genre)"
   ]
  },
  {
   "cell_type": "code",
   "execution_count": 143,
   "id": "b3567a48-922e-4ed3-9418-5ee26b00f3b8",
   "metadata": {},
   "outputs": [
    {
     "data": {
      "text/html": [
       "<div>\n",
       "<style scoped>\n",
       "    .dataframe tbody tr th:only-of-type {\n",
       "        vertical-align: middle;\n",
       "    }\n",
       "\n",
       "    .dataframe tbody tr th {\n",
       "        vertical-align: top;\n",
       "    }\n",
       "\n",
       "    .dataframe thead th {\n",
       "        text-align: right;\n",
       "    }\n",
       "</style>\n",
       "<table border=\"1\" class=\"dataframe\">\n",
       "  <thead>\n",
       "    <tr style=\"text-align: right;\">\n",
       "      <th></th>\n",
       "      <th>Matricule</th>\n",
       "      <th>Prenom</th>\n",
       "      <th>Age</th>\n",
       "      <th>Genre</th>\n",
       "      <th>Pourcentage</th>\n",
       "    </tr>\n",
       "  </thead>\n",
       "  <tbody>\n",
       "    <tr>\n",
       "      <th>0</th>\n",
       "      <td>20222021194</td>\n",
       "      <td>Chris</td>\n",
       "      <td>12</td>\n",
       "      <td>1</td>\n",
       "      <td>80</td>\n",
       "    </tr>\n",
       "    <tr>\n",
       "      <th>1</th>\n",
       "      <td>20222021195</td>\n",
       "      <td>Mosché</td>\n",
       "      <td>25</td>\n",
       "      <td>1</td>\n",
       "      <td>70</td>\n",
       "    </tr>\n",
       "    <tr>\n",
       "      <th>2</th>\n",
       "      <td>20222021196</td>\n",
       "      <td>Ariel</td>\n",
       "      <td>13</td>\n",
       "      <td>1</td>\n",
       "      <td>60</td>\n",
       "    </tr>\n",
       "    <tr>\n",
       "      <th>3</th>\n",
       "      <td>20222021197</td>\n",
       "      <td>Gad</td>\n",
       "      <td>36</td>\n",
       "      <td>1</td>\n",
       "      <td>50</td>\n",
       "    </tr>\n",
       "    <tr>\n",
       "      <th>4</th>\n",
       "      <td>20222021198</td>\n",
       "      <td>Asael</td>\n",
       "      <td>70</td>\n",
       "      <td>0</td>\n",
       "      <td>55</td>\n",
       "    </tr>\n",
       "  </tbody>\n",
       "</table>\n",
       "</div>"
      ],
      "text/plain": [
       "     Matricule  Prenom  Age  Genre  Pourcentage\n",
       "0  20222021194   Chris   12      1           80\n",
       "1  20222021195  Mosché   25      1           70\n",
       "2  20222021196   Ariel   13      1           60\n",
       "3  20222021197     Gad   36      1           50\n",
       "4  20222021198   Asael   70      0           55"
      ]
     },
     "execution_count": 143,
     "metadata": {},
     "output_type": "execute_result"
    }
   ],
   "source": [
    "le_tableau"
   ]
  },
  {
   "cell_type": "markdown",
   "id": "780baaa1-e401-4b2f-835d-7afab0f81bb4",
   "metadata": {},
   "source": [
    "# D.VISUALISATION DES DONNEES"
   ]
  },
  {
   "cell_type": "code",
   "execution_count": 148,
   "id": "56875517-4d01-4c29-9268-e4e799e65cb5",
   "metadata": {},
   "outputs": [],
   "source": [
    "#Creation des données"
   ]
  },
  {
   "cell_type": "code",
   "execution_count": 151,
   "id": "6da2f6f8-fd41-4ada-a149-0a393b449ed7",
   "metadata": {},
   "outputs": [],
   "source": [
    "import numpy as np"
   ]
  },
  {
   "cell_type": "code",
   "execution_count": 154,
   "id": "c71480ff-9331-4b11-b368-98fbf02116ab",
   "metadata": {},
   "outputs": [],
   "source": [
    "X = np.linspace(0,20,50)"
   ]
  },
  {
   "cell_type": "code",
   "execution_count": 157,
   "id": "1a6a48a4-80ae-4fab-b0a1-5d80ed0f76b8",
   "metadata": {},
   "outputs": [
    {
     "data": {
      "text/plain": [
       "array([ 0.        ,  0.40816327,  0.81632653,  1.2244898 ,  1.63265306,\n",
       "        2.04081633,  2.44897959,  2.85714286,  3.26530612,  3.67346939,\n",
       "        4.08163265,  4.48979592,  4.89795918,  5.30612245,  5.71428571,\n",
       "        6.12244898,  6.53061224,  6.93877551,  7.34693878,  7.75510204,\n",
       "        8.16326531,  8.57142857,  8.97959184,  9.3877551 ,  9.79591837,\n",
       "       10.20408163, 10.6122449 , 11.02040816, 11.42857143, 11.83673469,\n",
       "       12.24489796, 12.65306122, 13.06122449, 13.46938776, 13.87755102,\n",
       "       14.28571429, 14.69387755, 15.10204082, 15.51020408, 15.91836735,\n",
       "       16.32653061, 16.73469388, 17.14285714, 17.55102041, 17.95918367,\n",
       "       18.36734694, 18.7755102 , 19.18367347, 19.59183673, 20.        ])"
      ]
     },
     "execution_count": 157,
     "metadata": {},
     "output_type": "execute_result"
    }
   ],
   "source": [
    "X"
   ]
  },
  {
   "cell_type": "code",
   "execution_count": 160,
   "id": "8ecbc36c-3cfe-4b4c-ba2c-95734cbafb81",
   "metadata": {},
   "outputs": [],
   "source": [
    "#Importation  de Matplotlib"
   ]
  },
  {
   "cell_type": "code",
   "execution_count": 163,
   "id": "b256a70f-15c5-4256-ad35-37cd8cf88931",
   "metadata": {},
   "outputs": [],
   "source": [
    "import matplotlib.pyplot as plt"
   ]
  },
  {
   "cell_type": "code",
   "execution_count": 165,
   "id": "31ba75a3-c026-4e8a-a393-62cf4a9273fe",
   "metadata": {},
   "outputs": [
    {
     "data": {
      "text/plain": [
       "<matplotlib.legend.Legend at 0x1f747ec2120>"
      ]
     },
     "execution_count": 165,
     "metadata": {},
     "output_type": "execute_result"
    },
    {
     "data": {
      "image/png": "[encoded data removed]",
      "text/plain": [
       "<Figure size 600x400 with 1 Axes>"
      ]
     },
     "metadata": {},
     "output_type": "display_data"
    }
   ],
   "source": [
    "fig, ax = plt.subplots(figsize = (6,4))\n",
    "ax.plot(X, X*2, label='Double')\n",
    "ax.plot(X, X**2, label='Carré de X')\n",
    "ax.plot(X, X**3, label='Cubique')\n",
    "ax.set_xlabel('Données de X')\n",
    "ax.set_ylabel('Données de Y')\n",
    "plt.title ('Données de linspace entre 0 et 2')\n",
    "ax.legend()"
   ]
  },
  {
   "cell_type": "code",
   "execution_count": 168,
   "id": "4e9758f2-5207-4038-a51c-9cf9879ced2d",
   "metadata": {},
   "outputs": [],
   "source": [
    "#Importation de Seaborn"
   ]
  },
  {
   "cell_type": "code",
   "execution_count": 171,
   "id": "46c133ee-80a5-4af3-8858-675907779722",
   "metadata": {},
   "outputs": [],
   "source": [
    "import seaborn as sns"
   ]
  },
  {
   "cell_type": "code",
   "execution_count": 173,
   "id": "6470a04e-3f45-4b20-abbe-83056f2832dc",
   "metadata": {},
   "outputs": [],
   "source": [
    "iris_data = sns.load_dataset('iris')"
   ]
  },
  {
   "cell_type": "code",
   "execution_count": 176,
   "id": "c9dbf335-c3d3-4e62-8259-49624c7e3f6c",
   "metadata": {},
   "outputs": [
    {
     "data": {
      "text/html": [
       "<div>\n",
       "<style scoped>\n",
       "    .dataframe tbody tr th:only-of-type {\n",
       "        vertical-align: middle;\n",
       "    }\n",
       "\n",
       "    .dataframe tbody tr th {\n",
       "        vertical-align: top;\n",
       "    }\n",
       "\n",
       "    .dataframe thead th {\n",
       "        text-align: right;\n",
       "    }\n",
       "</style>\n",
       "<table border=\"1\" class=\"dataframe\">\n",
       "  <thead>\n",
       "    <tr style=\"text-align: right;\">\n",
       "      <th></th>\n",
       "      <th>sepal_length</th>\n",
       "      <th>sepal_width</th>\n",
       "      <th>petal_length</th>\n",
       "      <th>petal_width</th>\n",
       "      <th>species</th>\n",
       "    </tr>\n",
       "  </thead>\n",
       "  <tbody>\n",
       "    <tr>\n",
       "      <th>0</th>\n",
       "      <td>5.1</td>\n",
       "      <td>3.5</td>\n",
       "      <td>1.4</td>\n",
       "      <td>0.2</td>\n",
       "      <td>setosa</td>\n",
       "    </tr>\n",
       "    <tr>\n",
       "      <th>1</th>\n",
       "      <td>4.9</td>\n",
       "      <td>3.0</td>\n",
       "      <td>1.4</td>\n",
       "      <td>0.2</td>\n",
       "      <td>setosa</td>\n",
       "    </tr>\n",
       "    <tr>\n",
       "      <th>2</th>\n",
       "      <td>4.7</td>\n",
       "      <td>3.2</td>\n",
       "      <td>1.3</td>\n",
       "      <td>0.2</td>\n",
       "      <td>setosa</td>\n",
       "    </tr>\n",
       "    <tr>\n",
       "      <th>3</th>\n",
       "      <td>4.6</td>\n",
       "      <td>3.1</td>\n",
       "      <td>1.5</td>\n",
       "      <td>0.2</td>\n",
       "      <td>setosa</td>\n",
       "    </tr>\n",
       "    <tr>\n",
       "      <th>4</th>\n",
       "      <td>5.0</td>\n",
       "      <td>3.6</td>\n",
       "      <td>1.4</td>\n",
       "      <td>0.2</td>\n",
       "      <td>setosa</td>\n",
       "    </tr>\n",
       "  </tbody>\n",
       "</table>\n",
       "</div>"
      ],
      "text/plain": [
       "   sepal_length  sepal_width  petal_length  petal_width species\n",
       "0           5.1          3.5           1.4          0.2  setosa\n",
       "1           4.9          3.0           1.4          0.2  setosa\n",
       "2           4.7          3.2           1.3          0.2  setosa\n",
       "3           4.6          3.1           1.5          0.2  setosa\n",
       "4           5.0          3.6           1.4          0.2  setosa"
      ]
     },
     "execution_count": 176,
     "metadata": {},
     "output_type": "execute_result"
    }
   ],
   "source": [
    "iris_data.head()"
   ]
  },
  {
   "cell_type": "code",
   "execution_count": 179,
   "id": "b7e6fb68-ba65-4e83-9370-9adf983b0f79",
   "metadata": {},
   "outputs": [
    {
     "data": {
      "text/plain": [
       "(150, 5)"
      ]
     },
     "execution_count": 179,
     "metadata": {},
     "output_type": "execute_result"
    }
   ],
   "source": [
    "iris_data.shape"
   ]
  },
  {
   "cell_type": "code",
   "execution_count": 182,
   "id": "8577b021-c7f2-4d77-9bba-d59bf04a82a8",
   "metadata": {},
   "outputs": [
    {
     "data": {
      "image/png": "[encoded data removed]",
      "text/plain": [
       "<Figure size 640x480 with 1 Axes>"
      ]
     },
     "metadata": {},
     "output_type": "display_data"
    }
   ],
   "source": [
    "import seaborn as sns\n",
    "import matplotlib.pyplot as plt\n",
    "iris = sns.load_dataset('iris')\n",
    "sns.scatterplot(x='sepal_length', y='sepal_width', data=iris, hue='species')\n",
    "plt.xlabel('Longueur des sepales')\n",
    "plt.ylabel('Largeur des sépales')\n",
    "plt.title('Longueur des sépales vs largeur des sépales')\n",
    "plt.show()"
   ]
  },
  {
   "cell_type": "code",
   "execution_count": 185,
   "id": "7d3eba56-3bed-4aac-a62b-b757b56bd800",
   "metadata": {},
   "outputs": [
    {
     "name": "stdout",
     "output_type": "stream",
     "text": [
      "[0 1 2]\n"
     ]
    }
   ],
   "source": [
    "import seaborn as sns\n",
    "import matplotlib.pyplot as plt\n",
    "\n",
    "iris = sns.load_dataset('iris')\n",
    "\n",
    "mapping = {\n",
    "    'setosa': 0,\n",
    "    'versicolor': 1,\n",
    "    'virginica': 2\n",
    "}\n",
    "iris['species'] = iris['species'].map(mapping)\n",
    "\n",
    "print(iris['species'].unique())\n",
    "\n"
   ]
  },
  {
   "cell_type": "code",
   "execution_count": 188,
   "id": "edd93e5a-55dd-4a6c-a083-9e2e41d65528",
   "metadata": {},
   "outputs": [
    {
     "name": "stdout",
     "output_type": "stream",
     "text": [
      "     sepal_length  sepal_width  petal_length  petal_width  species\n",
      "0             5.1          3.5           1.4          0.2        0\n",
      "1             4.9          3.0           1.4          0.2        0\n",
      "2             4.7          3.2           1.3          0.2        0\n",
      "3             4.6          3.1           1.5          0.2        0\n",
      "4             5.0          3.6           1.4          0.2        0\n",
      "..            ...          ...           ...          ...      ...\n",
      "145           6.7          3.0           5.2          2.3        2\n",
      "146           6.3          2.5           5.0          1.9        2\n",
      "147           6.5          3.0           5.2          2.0        2\n",
      "148           6.2          3.4           5.4          2.3        2\n",
      "149           5.9          3.0           5.1          1.8        2\n",
      "\n",
      "[150 rows x 5 columns]\n"
     ]
    }
   ],
   "source": [
    "print(iris)"
   ]
  },
  {
   "cell_type": "code",
   "execution_count": null,
   "id": "cac05597-300b-4373-8d72-e30e37b5ace3",
   "metadata": {},
   "outputs": [],
   "source": []
  },
  {
   "cell_type": "code",
   "execution_count": null,
   "id": "3f8c2bd8-e09e-4617-aadb-38bc01d06b07",
   "metadata": {},
   "outputs": [],
   "source": []
  }
 ],
 "metadata": {
  "kernelspec": {
   "display_name": "Python [conda env:base] *",
   "language": "python",
   "name": "conda-base-py"
  },
  "language_info": {
   "codemirror_mode": {
    "name": "ipython",
    "version": 3
   },
   "file_extension": ".py",
   "mimetype": "text/x-python",
   "name": "python",
   "nbconvert_exporter": "python",
   "pygments_lexer": "ipython3",
   "version": "3.12.7"
  }
 },
 "nbformat": 4,
 "nbformat_minor": 5
}
